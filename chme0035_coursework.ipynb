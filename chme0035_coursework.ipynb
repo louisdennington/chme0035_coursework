{
  "nbformat": 4,
  "nbformat_minor": 0,
  "metadata": {
    "colab": {
      "provenance": [],
      "authorship_tag": "ABX9TyPYArY6gvAAQ8XSvqHsgMjM",
      "include_colab_link": true
    },
    "kernelspec": {
      "name": "python3",
      "display_name": "Python 3"
    },
    "language_info": {
      "name": "python"
    }
  },
  "cells": [
    {
      "cell_type": "markdown",
      "metadata": {
        "id": "view-in-github",
        "colab_type": "text"
      },
      "source": [
        "<a href=\"https://colab.research.google.com/github/louisdennington/chme0035_coursework/blob/main/chme0035_coursework.ipynb\" target=\"_parent\"><img src=\"https://colab.research.google.com/assets/colab-badge.svg\" alt=\"Open In Colab\"/></a>"
      ]
    },
    {
      "cell_type": "code",
      "execution_count": null,
      "metadata": {
        "id": "b-AF8RuWLJ7A",
        "outputId": "e6c44c08-c898-4d2f-ed62-2210cd824fa7",
        "colab": {
          "base_uri": "https://localhost:8080/"
        }
      },
      "outputs": [
        {
          "output_type": "stream",
          "name": "stdout",
          "text": [
            "Mounted at /content/drive\n"
          ]
        }
      ],
      "source": [
        "from google.colab import drive\n",
        "drive.mount('/content/drive')"
      ]
    },
    {
      "cell_type": "code",
      "source": [
        "# Define GPU usage\n",
        "# device = torch.device('cuda' if torch.cuda.is_available() else 'cpu)\n",
        "\n",
        "# Set random seeds"
      ],
      "metadata": {
        "id": "fhoEH8-4YQn7"
      },
      "execution_count": null,
      "outputs": []
    }
  ]
}